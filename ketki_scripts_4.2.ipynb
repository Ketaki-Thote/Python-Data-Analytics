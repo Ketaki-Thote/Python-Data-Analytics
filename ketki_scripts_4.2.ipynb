{
 "cells": [
  {
   "cell_type": "markdown",
   "id": "d29fd4c6",
   "metadata": {},
   "source": [
    "# Table of contents\n",
    "\n",
    "## 01- Importing Libraries\n",
    "## 02- Data Types\n",
    "## 03-Task\n",
    "## Math Functions\n",
    "## String Functions"
   ]
  },
  {
   "cell_type": "markdown",
   "id": "24767254",
   "metadata": {},
   "source": [
    "# 01- Importing Libraries"
   ]
  },
  {
   "cell_type": "code",
   "execution_count": 1,
   "id": "1a10f43c",
   "metadata": {},
   "outputs": [],
   "source": [
    "# Import libraries\n",
    "import pandas as pd\n",
    "import numpy as np\n",
    "import os"
   ]
  },
  {
   "cell_type": "markdown",
   "id": "c2d532a3",
   "metadata": {},
   "source": [
    "# 02- Data Types"
   ]
  },
  {
   "cell_type": "code",
   "execution_count": 5,
   "id": "e593ee5c",
   "metadata": {},
   "outputs": [],
   "source": [
    "x = 2"
   ]
  },
  {
   "cell_type": "code",
   "execution_count": 6,
   "id": "52575d20",
   "metadata": {},
   "outputs": [
    {
     "data": {
      "text/plain": [
       "2"
      ]
     },
     "execution_count": 6,
     "metadata": {},
     "output_type": "execute_result"
    }
   ],
   "source": [
    "x"
   ]
  },
  {
   "cell_type": "code",
   "execution_count": 7,
   "id": "9b5863e5",
   "metadata": {},
   "outputs": [
    {
     "name": "stdout",
     "output_type": "stream",
     "text": [
      "2\n"
     ]
    }
   ],
   "source": [
    "print(x)"
   ]
  },
  {
   "cell_type": "code",
   "execution_count": 8,
   "id": "307b3846",
   "metadata": {},
   "outputs": [
    {
     "data": {
      "text/plain": [
       "int"
      ]
     },
     "execution_count": 8,
     "metadata": {},
     "output_type": "execute_result"
    }
   ],
   "source": [
    "type(x)"
   ]
  },
  {
   "cell_type": "code",
   "execution_count": 9,
   "id": "d379d80e",
   "metadata": {},
   "outputs": [],
   "source": [
    "y = 5.678"
   ]
  },
  {
   "cell_type": "code",
   "execution_count": 10,
   "id": "2d1c5958",
   "metadata": {},
   "outputs": [
    {
     "data": {
      "text/plain": [
       "float"
      ]
     },
     "execution_count": 10,
     "metadata": {},
     "output_type": "execute_result"
    }
   ],
   "source": [
    "type(y)"
   ]
  },
  {
   "cell_type": "code",
   "execution_count": 11,
   "id": "362fedaa",
   "metadata": {},
   "outputs": [],
   "source": [
    "z = 'Brazil'"
   ]
  },
  {
   "cell_type": "code",
   "execution_count": 12,
   "id": "c399e676",
   "metadata": {},
   "outputs": [
    {
     "data": {
      "text/plain": [
       "str"
      ]
     },
     "execution_count": 12,
     "metadata": {},
     "output_type": "execute_result"
    }
   ],
   "source": [
    "type(z)"
   ]
  },
  {
   "cell_type": "code",
   "execution_count": 14,
   "id": "6b2fd56a",
   "metadata": {},
   "outputs": [
    {
     "data": {
      "text/plain": [
       "bool"
      ]
     },
     "execution_count": 14,
     "metadata": {},
     "output_type": "execute_result"
    }
   ],
   "source": [
    "type(True)"
   ]
  },
  {
   "cell_type": "code",
   "execution_count": 15,
   "id": "5f9ecc38",
   "metadata": {},
   "outputs": [
    {
     "data": {
      "text/plain": [
       "bool"
      ]
     },
     "execution_count": 15,
     "metadata": {},
     "output_type": "execute_result"
    }
   ],
   "source": [
    "type(False)"
   ]
  },
  {
   "cell_type": "code",
   "execution_count": 16,
   "id": "5ca1ace7",
   "metadata": {},
   "outputs": [
    {
     "name": "stdout",
     "output_type": "stream",
     "text": [
      "2\n"
     ]
    }
   ],
   "source": [
    "print(x)"
   ]
  },
  {
   "cell_type": "code",
   "execution_count": 17,
   "id": "b4c13019",
   "metadata": {},
   "outputs": [
    {
     "data": {
      "text/plain": [
       "6"
      ]
     },
     "execution_count": 17,
     "metadata": {},
     "output_type": "execute_result"
    }
   ],
   "source": [
    "x + 4"
   ]
  },
  {
   "cell_type": "code",
   "execution_count": 21,
   "id": "7c8cf68c",
   "metadata": {},
   "outputs": [],
   "source": [
    "a = 'Hello,'"
   ]
  },
  {
   "cell_type": "code",
   "execution_count": 22,
   "id": "f7e4bf18",
   "metadata": {},
   "outputs": [],
   "source": [
    "b = ' Marley'"
   ]
  },
  {
   "cell_type": "code",
   "execution_count": 23,
   "id": "7033f5ab",
   "metadata": {},
   "outputs": [
    {
     "data": {
      "text/plain": [
       "'Hello, Marley'"
      ]
     },
     "execution_count": 23,
     "metadata": {},
     "output_type": "execute_result"
    }
   ],
   "source": [
    "a + b"
   ]
  },
  {
   "cell_type": "code",
   "execution_count": 24,
   "id": "80c2989e",
   "metadata": {},
   "outputs": [],
   "source": [
    "n = 'potato'"
   ]
  },
  {
   "cell_type": "code",
   "execution_count": 25,
   "id": "9f88f621",
   "metadata": {},
   "outputs": [
    {
     "data": {
      "text/plain": [
       "'potatopotatopotatopotatopotatopotatopotatopotatopotatopotatopotatopotato'"
      ]
     },
     "execution_count": 25,
     "metadata": {},
     "output_type": "execute_result"
    }
   ],
   "source": [
    "n * 12"
   ]
  },
  {
   "cell_type": "code",
   "execution_count": 26,
   "id": "c94a36fe",
   "metadata": {},
   "outputs": [
    {
     "data": {
      "text/plain": [
       "False"
      ]
     },
     "execution_count": 26,
     "metadata": {},
     "output_type": "execute_result"
    }
   ],
   "source": [
    "x == y"
   ]
  },
  {
   "cell_type": "code",
   "execution_count": 27,
   "id": "b64252b4",
   "metadata": {},
   "outputs": [
    {
     "data": {
      "text/plain": [
       "bool"
      ]
     },
     "execution_count": 27,
     "metadata": {},
     "output_type": "execute_result"
    }
   ],
   "source": [
    "type(x == y)"
   ]
  },
  {
   "cell_type": "markdown",
   "id": "3cf680d5",
   "metadata": {},
   "source": [
    "# 03 Task"
   ]
  },
  {
   "cell_type": "markdown",
   "id": "69d233e8",
   "metadata": {},
   "source": [
    "# Math Functions"
   ]
  },
  {
   "cell_type": "code",
   "execution_count": 28,
   "id": "796ee6ff",
   "metadata": {},
   "outputs": [],
   "source": [
    "# Integers - 3 ways to 100"
   ]
  },
  {
   "cell_type": "code",
   "execution_count": 29,
   "id": "59fce08e",
   "metadata": {},
   "outputs": [
    {
     "data": {
      "text/plain": [
       "(100, 100, 100)"
      ]
     },
     "execution_count": 29,
     "metadata": {},
     "output_type": "execute_result"
    }
   ],
   "source": [
    "a = 99\n",
    "b = 95\n",
    "c = 90\n",
    "d = 1\n",
    "e = 5\n",
    "\n",
    "a + d, b + e, c + e + e"
   ]
  },
  {
   "cell_type": "code",
   "execution_count": 30,
   "id": "aae1d5cc",
   "metadata": {},
   "outputs": [
    {
     "data": {
      "text/plain": [
       "(0.7617818671454218, 1.3127117395787304)"
      ]
     },
     "execution_count": 30,
     "metadata": {},
     "output_type": "execute_result"
    }
   ],
   "source": [
    "# Floating Point Numbers - define two float variables and divide them\n",
    "f = 6.789\n",
    "g = 8.912\n",
    "\n",
    "f/g, g/f"
   ]
  },
  {
   "cell_type": "markdown",
   "id": "1db5158f",
   "metadata": {},
   "source": [
    "# String Functions"
   ]
  },
  {
   "cell_type": "code",
   "execution_count": 31,
   "id": "bf29a72c",
   "metadata": {},
   "outputs": [
    {
     "data": {
      "text/plain": [
       "'cocacola'"
      ]
     },
     "execution_count": 31,
     "metadata": {},
     "output_type": "execute_result"
    }
   ],
   "source": [
    "# Strings - write a word by concatenating two strings\n",
    "h = 'coca'\n",
    "i = 'cola'\n",
    "h + i"
   ]
  },
  {
   "cell_type": "code",
   "execution_count": 32,
   "id": "0c097bc2",
   "metadata": {},
   "outputs": [
    {
     "data": {
      "text/plain": [
       "'Its a bright and sunny day today'"
      ]
     },
     "execution_count": 32,
     "metadata": {},
     "output_type": "execute_result"
    }
   ],
   "source": [
    "# Strings 2 - write 2 sentences made of separate strings\n",
    "j = 'Its a bright'\n",
    "k = ' and sunny day today'\n",
    "j + k"
   ]
  },
  {
   "cell_type": "code",
   "execution_count": 33,
   "id": "68d33819",
   "metadata": {},
   "outputs": [
    {
     "data": {
      "text/plain": [
       "'potato potato potato potato potato potato potato potato potato potato potato potato potato potato potato potato potato potato potato potato potato potato potato potato potato potato potato potato potato potato potato potato potato potato potato potato potato potato potato potato potato potato potato potato potato potato potato potato potato potato potato potato potato potato potato potato potato potato potato potato potato potato potato potato potato potato potato potato potato potato potato potato potato potato potato potato potato potato potato potato potato potato potato potato potato potato potato potato potato potato potato potato potato potato potato potato potato potato potato potato '"
      ]
     },
     "execution_count": 33,
     "metadata": {},
     "output_type": "execute_result"
    }
   ],
   "source": [
    "# Bonus - make a string appear 100 times\n",
    "l = 'potato '\n",
    "l * 100"
   ]
  }
 ],
 "metadata": {
  "kernelspec": {
   "display_name": "Python 3 (ipykernel)",
   "language": "python",
   "name": "python3"
  },
  "language_info": {
   "codemirror_mode": {
    "name": "ipython",
    "version": 3
   },
   "file_extension": ".py",
   "mimetype": "text/x-python",
   "name": "python",
   "nbconvert_exporter": "python",
   "pygments_lexer": "ipython3",
   "version": "3.9.13"
  }
 },
 "nbformat": 4,
 "nbformat_minor": 5
}
